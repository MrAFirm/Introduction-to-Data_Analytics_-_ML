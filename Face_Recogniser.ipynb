{
  "nbformat": 4,
  "nbformat_minor": 0,
  "metadata": {
    "colab": {
      "provenance": [],
      "authorship_tag": "ABX9TyM1tRc9UYro8gUPRT/BnyDt",
      "include_colab_link": true
    },
    "kernelspec": {
      "name": "python3",
      "display_name": "Python 3"
    },
    "language_info": {
      "name": "python"
    }
  },
  "cells": [
    {
      "cell_type": "markdown",
      "metadata": {
        "id": "view-in-github",
        "colab_type": "text"
      },
      "source": [
        "<a href=\"https://colab.research.google.com/github/MrAFirm/Introduction-to-Data_Analytics_-_ML/blob/main/Face_Recogniser.ipynb\" target=\"_parent\"><img src=\"https://colab.research.google.com/assets/colab-badge.svg\" alt=\"Open In Colab\"/></a>"
      ]
    },
    {
      "cell_type": "code",
      "execution_count": 36,
      "metadata": {
        "colab": {
          "base_uri": "https://localhost:8080/"
        },
        "id": "KqMa_Mp8FIWQ",
        "outputId": "bc2a648e-4d53-48c0-dc72-7e75921a3c8c"
      },
      "outputs": [
        {
          "output_type": "stream",
          "name": "stdout",
          "text": [
            "Training Done!\n",
            "Length of the features = 51\n",
            "Length of the labels = 51\n",
            "<class 'numpy.ndarray'>\n",
            "(100, 100)\n"
          ]
        }
      ],
      "source": [
        "# Face Training for Facial Recognition\n",
        "\n",
        "import os\n",
        "import cv2\n",
        "import numpy as np\n",
        "from google.colab import files\n",
        "import zipfile\n",
        "\n",
        "people = [\"Shaun\", \"Kobe\"]\n",
        "# uploaded = files.upload()\n",
        "\n",
        "DIR = \"train_data1/train_data/Train\"\n",
        "\n",
        "# Haar Cascade for Facial Detection.\n",
        "haar_cascade = cv2.CascadeClassifier('haar_cascade.xml')\n",
        "\n",
        "with zipfile.ZipFile('train_data1.zip', 'r') as zip_ref:\n",
        "  zip_ref.extractall(\"train_data1\")\n",
        "\n",
        "# for root, dirs, files in os.walk(\"train_data\"):\n",
        "#     for name in dirs:\n",
        "#         print(\"📁\", os.path.join(root, name))\n",
        "#     for name in files:\n",
        "#         print(\"📄\", os.path.join(root, name))\n",
        "\n",
        "features = []\n",
        "labels = []\n",
        "\n",
        "# Allowing LBPH face recogniser to train on the faces by detection.\n",
        "def create_train():\n",
        "  for person in people:\n",
        "    path = os.path.join(DIR, person)\n",
        "    label = people.index(person)\n",
        "\n",
        "    for img in os.listdir(path):\n",
        "      img_path = os.path.join(path, img)\n",
        "      img_array = cv2.imread(img_path)\n",
        "      gray = cv2.cvtColor(img_array , cv2.COLOR_BGR2GRAY)\n",
        "      faces_rect = haar_cascade.detectMultiScale(gray, scaleFactor=1.1, minNeighbors=4)\n",
        "\n",
        "      for (x, y, w, h) in faces_rect:\n",
        "        faces_roi = gray[y:y+h, x:x+w]\n",
        "        resized_face = cv2.resize(faces_roi, (100, 100))\n",
        "        features.append(resized_face)\n",
        "        labels.append(label)\n",
        "\n",
        "create_train()\n",
        "print(\"Training Done!\")\n",
        "\n",
        "# 45 faces in total for training data.\n",
        "print(f\"Length of the features = {len(features)}\")\n",
        "print(f\"Length of the labels = {len(labels)}\")\n",
        "\n",
        "# To check if the resolution of each image is correct\n",
        "print(type(features[0]))\n",
        "print(features[0].shape)\n",
        "\n",
        "features = np.array(features, dtype = np.uint8)\n",
        "labels = np.array(labels)\n",
        "\n",
        "# Call the training function\n",
        "face_recognizer = cv2.face.LBPHFaceRecognizer_create()\n",
        "face_recognizer.train(features, labels)\n",
        "\n",
        "\n",
        "# Save data\n",
        "face_recognizer.save(\"face_trained.yml\")\n",
        "np.save('features.npy', features)\n",
        "np.save('labels.npy', labels)\n",
        "\n",
        "\n"
      ]
    },
    {
      "cell_type": "code",
      "source": [
        "# To install OpenCV LBPH built-in facial Recognition Library\n",
        "\n",
        "!pip install opencv-contrib-python --upgrade\n"
      ],
      "metadata": {
        "id": "BQXFGDk4KjY8"
      },
      "execution_count": null,
      "outputs": []
    },
    {
      "cell_type": "code",
      "source": [
        "# Facial Recognition Program\n",
        "\n",
        "import cv2\n",
        "import numpy as np\n",
        "from google.colab import files\n",
        "\n",
        "# uploaded = files.upload()\n",
        "\n",
        "img_name_n_path = \"train_data1/train_data/Recog/Kobe/kobe-1.jpg\"\n",
        "\n",
        "# Haar Cascade for Facial Detection.\n",
        "haar_cascade = cv2.CascadeClassifier('haar_cascade.xml')\n",
        "\n",
        "people = [\"Shaun\", \"Kobe\"]\n",
        "features = np.load('features.npy')\n",
        "labels = np.load('labels.npy')\n",
        "\n",
        "face_recognizer = cv2.face.LBPHFaceRecognizer_create()\n",
        "face_recognizer.read(\"face_trained.yml\")\n",
        "\n",
        "img = cv2.imread(img_name_n_path)\n",
        "gray = cv2.cvtColor(img, cv2.COLOR_BGR2GRAY)\n",
        "\n",
        "# Detect Face\n",
        "faces_rect = haar_cascade.detectMultiScale(gray, scaleFactor=1.1, minNeighbors=6)\n",
        "\n",
        "for (x, y, w, h) in faces_rect:\n",
        "  faces_roi = gray[y:y+h, x:x+w]\n",
        "  label, confidence = face_recognizer.predict(faces_roi)\n",
        "  print(f\"Label = {people[label]} with a confidence of {confidence}\")\n",
        "\n",
        "  # cv2.putText(img, str(people[label]), (20,20), cv2.FONT_HERSHEY_COMPLEX, 1.0, (0,255,0), thickness = 2)\n",
        "  # cv2.rectangle(img, (x,y), (x+w, y+h), (0,255,0), thickness = 2)\n",
        "\n",
        "# cv2.imshow(\"Detected Face\", img)\n",
        "# cv2.waitKey(0)"
      ],
      "metadata": {
        "colab": {
          "base_uri": "https://localhost:8080/"
        },
        "id": "n5fdkKb7kn43",
        "outputId": "277fa289-6cb2-4c49-f452-133bdd962e8d"
      },
      "execution_count": 57,
      "outputs": [
        {
          "output_type": "stream",
          "name": "stdout",
          "text": [
            "Label = Kobe with a confidence of 108.45006218408997\n"
          ]
        }
      ]
    }
  ]
}