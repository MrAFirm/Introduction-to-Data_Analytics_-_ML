{
  "nbformat": 4,
  "nbformat_minor": 0,
  "metadata": {
    "colab": {
      "provenance": [],
      "authorship_tag": "ABX9TyPgsLyQ25ftFrKXx8IC82Yq",
      "include_colab_link": true
    },
    "kernelspec": {
      "name": "python3",
      "display_name": "Python 3"
    },
    "language_info": {
      "name": "python"
    }
  },
  "cells": [
    {
      "cell_type": "markdown",
      "metadata": {
        "id": "view-in-github",
        "colab_type": "text"
      },
      "source": [
        "<a href=\"https://colab.research.google.com/github/MrAFirm/Introduction-to-Data_Analytics_-_ML/blob/main/Lesson1.ipynb\" target=\"_parent\"><img src=\"https://colab.research.google.com/assets/colab-badge.svg\" alt=\"Open In Colab\"/></a>"
      ]
    },
    {
      "cell_type": "code",
      "execution_count": 10,
      "metadata": {
        "colab": {
          "base_uri": "https://localhost:8080/"
        },
        "id": "DkqvgXR6e4EI",
        "outputId": "67381e59-8b94-48f5-9b67-743711c95a05"
      },
      "outputs": [
        {
          "output_type": "stream",
          "name": "stdout",
          "text": [
            "(\"5'7\", \"6'0\", \"6'3\", \"6'8\", \"7'0\") \n",
            " [10.9, 11.2, 23.5, 22.9, 18.9] \n",
            " [3.4, 4.1, 5.2, 7.1, 11.0] \n",
            " {'Webb': 5.5, 'Paul': 11.7, 'Westbrook': 10.2, 'LeBron': 7.7, 'Holmgren': 2.2}\n",
            "Selected player: 5'7\n",
            "Selected player PPG: 10.9\n",
            "Selected player APG: 5.5\n",
            "Selected players: (\"6'0\", \"6'3\")\n",
            "Selected players PPG: [11.2, 23.5]\n",
            "Selected players APG: (11.7, 10.2)\n"
          ]
        }
      ],
      "source": [
        "# Datasets\n",
        "Player_Height = (\"5'7\", \"6'0\", \"6'3\", \"6'8\", \"7'0\")\n",
        "\n",
        "PPG = [10.9, 11.2, 23.5, 22.9, 18.9]\n",
        "\n",
        "RPG = [3.4, 4.1, 5.2, 7.1, 11.0] # Changed from a set to a list\n",
        "\n",
        "APG = {\"Webb\":5.5,\n",
        "       \"Paul\":11.7,\n",
        "       \"Westbrook\":10.2,\n",
        "       \"LeBron\":7.7,\n",
        "       \"Holmgren\":2.2\n",
        "}\n",
        "\n",
        "print(Player_Height, \"\\n\", PPG, \"\\n\", RPG, \"\\n\", APG)\n",
        "\n",
        "# Read Data\n",
        "selection1 = Player_Height[0]\n",
        "selection2 = PPG[0]\n",
        "selection3 = APG[\"Webb\"]\n",
        "\n",
        "print(f\"Selected player: {selection1}\")\n",
        "print(f\"Selected player PPG: {selection2}\")\n",
        "print(f\"Selected player APG: {selection3}\")\n",
        "\n",
        "# Read Data Chain\n",
        "selection4 = Player_Height[1:3]\n",
        "selection5 = PPG[1:3]\n",
        "selection6 = APG[\"Paul\"], APG[\"Westbrook\"]\n",
        "\n",
        "print(f\"Selected players: {selection4}\")\n",
        "print(f\"Selected players PPG: {selection5}\")\n",
        "print(f\"Selected players APG: {selection6}\")"
      ]
    }
  ]
}