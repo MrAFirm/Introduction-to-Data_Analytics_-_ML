{
  "nbformat": 4,
  "nbformat_minor": 0,
  "metadata": {
    "colab": {
      "provenance": [],
      "authorship_tag": "ABX9TyOrJ32DQJt8aPZdXz28oNpN",
      "include_colab_link": true
    },
    "kernelspec": {
      "name": "python3",
      "display_name": "Python 3"
    },
    "language_info": {
      "name": "python"
    }
  },
  "cells": [
    {
      "cell_type": "markdown",
      "metadata": {
        "id": "view-in-github",
        "colab_type": "text"
      },
      "source": [
        "<a href=\"https://colab.research.google.com/github/MrAFirm/Introduction-to-Data_Analytics_-_ML/blob/main/Numpy_1.ipynb\" target=\"_parent\"><img src=\"https://colab.research.google.com/assets/colab-badge.svg\" alt=\"Open In Colab\"/></a>"
      ]
    },
    {
      "cell_type": "code",
      "execution_count": 4,
      "metadata": {
        "colab": {
          "base_uri": "https://localhost:8080/"
        },
        "id": "Wp0kvXQT3DuU",
        "outputId": "41729b00-3ed9-426d-aea4-1abe86bdbeec"
      },
      "outputs": [
        {
          "output_type": "stream",
          "name": "stdout",
          "text": [
            "2\n"
          ]
        }
      ],
      "source": [
        "import numpy as np\n",
        "\n",
        "\n",
        "a = np.array([1, 2, 3])\n"
      ]
    },
    {
      "cell_type": "code",
      "source": [
        "import time\n",
        "import sys\n",
        "\n",
        "b = range(1000)\n",
        "print(sys.getsizeof(5)* len(b))"
      ],
      "metadata": {
        "colab": {
          "base_uri": "https://localhost:8080/"
        },
        "id": "lY9fvbzz4NN-",
        "outputId": "3df1bd65-9de3-486a-bb38-17bf6e6b8840"
      },
      "execution_count": 7,
      "outputs": [
        {
          "output_type": "stream",
          "name": "stdout",
          "text": [
            "28000\n"
          ]
        }
      ]
    },
    {
      "cell_type": "code",
      "source": [
        "import numpy as np\n",
        "\n",
        "c = np.arange(1000)\n",
        "print(c.size * c.itemsize)"
      ],
      "metadata": {
        "colab": {
          "base_uri": "https://localhost:8080/"
        },
        "id": "My4JheQ64aiC",
        "outputId": "d3d669b7-12f2-4abb-e2df-52938acc390f"
      },
      "execution_count": 9,
      "outputs": [
        {
          "output_type": "stream",
          "name": "stdout",
          "text": [
            "8000\n"
          ]
        }
      ]
    },
    {
      "cell_type": "code",
      "source": [
        "size = 100000\n",
        "\n",
        "L1 = range(size)\n",
        "L2 = range(size)\n",
        "A1 = np.arange(size)\n",
        "A2 = np.arange(size)\n",
        "\n",
        "start = time.time()\n",
        "result = [(x+y) for x, y in zip(L1, L2)]\n",
        "print(\"Python list took: \", (time.time() - start) * 1000)\n",
        "\n",
        "start = time.time()\n",
        "result = A1 + A2\n",
        "print(result)\n",
        "print (\"NumPy Array took: \", (time.time() - start) * 1000)\n"
      ],
      "metadata": {
        "colab": {
          "base_uri": "https://localhost:8080/"
        },
        "id": "K_44LYHx4sEf",
        "outputId": "805d9a83-a86e-4abb-a673-5c791433d22a"
      },
      "execution_count": 15,
      "outputs": [
        {
          "output_type": "stream",
          "name": "stdout",
          "text": [
            "Python list took:  5.106210708618164\n",
            "[     0      2      4 ... 199994 199996 199998]\n",
            "NumPy Array took:  0.9400844573974609\n"
          ]
        }
      ]
    },
    {
      "cell_type": "code",
      "source": [
        "import numpy as np\n",
        "\n",
        "a = np.array([[1.1,2,3], [4,5,6], [7,8,9]])\n",
        "\n",
        "print(a)\n",
        "print(a.ndim)\n",
        "print(a.itemsize)\n",
        "print(a.shape)"
      ],
      "metadata": {
        "colab": {
          "base_uri": "https://localhost:8080/"
        },
        "id": "o9_DvHJF4_FV",
        "outputId": "7ffb2186-942a-4ec5-c83a-81521169bbef"
      },
      "execution_count": 24,
      "outputs": [
        {
          "output_type": "stream",
          "name": "stdout",
          "text": [
            "[[1.1 2.  3. ]\n",
            " [4.  5.  6. ]\n",
            " [7.  8.  9. ]]\n",
            "2\n",
            "8\n",
            "(3, 3)\n"
          ]
        }
      ]
    },
    {
      "cell_type": "code",
      "source": [
        "import numpy as np\n",
        "\n",
        "a = np.array([[1,2,3], [4,5,6], [7,8,9]], dtype = np.float64)\n",
        "print(a)\n",
        "print(a.itemsize)\n",
        "print(a.shape)"
      ],
      "metadata": {
        "colab": {
          "base_uri": "https://localhost:8080/"
        },
        "id": "XfCEpAcz8E1u",
        "outputId": "7aba845d-d585-48e8-c80b-d258177f5389"
      },
      "execution_count": 26,
      "outputs": [
        {
          "output_type": "stream",
          "name": "stdout",
          "text": [
            "[[1. 2. 3.]\n",
            " [4. 5. 6.]\n",
            " [7. 8. 9.]]\n",
            "8\n",
            "(3, 3)\n"
          ]
        }
      ]
    },
    {
      "cell_type": "code",
      "source": [
        "import numpy as np\n",
        "\n",
        "a = np.array([[1,2,3], [4,5,6], [7,8,9]], dtype = complex)\n",
        "print(a)"
      ],
      "metadata": {
        "colab": {
          "base_uri": "https://localhost:8080/"
        },
        "id": "wPIM5xmm--L0",
        "outputId": "dc3b917a-5d98-426b-890f-004a395bfce2"
      },
      "execution_count": 29,
      "outputs": [
        {
          "output_type": "stream",
          "name": "stdout",
          "text": [
            "[[1.+0.j 2.+0.j 3.+0.j]\n",
            " [4.+0.j 5.+0.j 6.+0.j]\n",
            " [7.+0.j 8.+0.j 9.+0.j]]\n"
          ]
        }
      ]
    },
    {
      "cell_type": "code",
      "source": [
        "import numpy as np\n",
        "\n",
        "a = np.zeros([3,1], dtype = np.uint)\n",
        "print(a)"
      ],
      "metadata": {
        "colab": {
          "base_uri": "https://localhost:8080/"
        },
        "id": "je7eeB8yC7i1",
        "outputId": "1471e378-87d1-4049-e5f5-a01619597adb"
      },
      "execution_count": 33,
      "outputs": [
        {
          "output_type": "stream",
          "name": "stdout",
          "text": [
            "[[0]\n",
            " [0]\n",
            " [0]]\n"
          ]
        }
      ]
    },
    {
      "cell_type": "code",
      "source": [
        "import numpy as jeff\n",
        "\n",
        "a = jeff.ones([3,2], dtype = jeff.uint)\n",
        "print(a)"
      ],
      "metadata": {
        "colab": {
          "base_uri": "https://localhost:8080/"
        },
        "id": "41qZJxZyDfK3",
        "outputId": "4af433fd-9987-4088-cb5a-2d6901604771"
      },
      "execution_count": 36,
      "outputs": [
        {
          "output_type": "stream",
          "name": "stdout",
          "text": [
            "[[1 1]\n",
            " [1 1]\n",
            " [1 1]]\n"
          ]
        }
      ]
    },
    {
      "cell_type": "code",
      "source": [
        "l = range(5)\n",
        "print(l)"
      ],
      "metadata": {
        "colab": {
          "base_uri": "https://localhost:8080/"
        },
        "id": "ZwxZeJBlD4Fw",
        "outputId": "6c701b8b-1935-4d79-f68c-3b1c1eb016f3"
      },
      "execution_count": 37,
      "outputs": [
        {
          "output_type": "stream",
          "name": "stdout",
          "text": [
            "range(0, 5)\n"
          ]
        }
      ]
    },
    {
      "cell_type": "code",
      "source": [
        "import numpy as np\n",
        "\n",
        "a = np.arange(5)\n",
        "print(a)"
      ],
      "metadata": {
        "colab": {
          "base_uri": "https://localhost:8080/"
        },
        "id": "l-B_Bsn6D9K4",
        "outputId": "9cb5dd95-6b65-4fdc-8c20-040cd2734ba2"
      },
      "execution_count": 38,
      "outputs": [
        {
          "output_type": "stream",
          "name": "stdout",
          "text": [
            "[0 1 2 3 4]\n"
          ]
        }
      ]
    },
    {
      "cell_type": "code",
      "source": [
        "from textwrap import fill\n",
        "import numpy as np\n",
        "\n",
        "a = np.array([\"Welcome to \"])\n",
        "b = np.array([\"my NumPy learning progress!\"])\n",
        "\n",
        "total = a + b\n",
        "print(total)\n",
        "\n",
        "print(np.char.add([\"Wel\", \"Bro\"], [\"come\", \"ski!\"]))\n",
        "print(np.char.multiply(\"Jordan! \", 3))\n",
        "print(np.char.center(\"LeBron!\", 21, fillchar = \"~\"))\n",
        "print(np.char.capitalize(\"lebron james\"))\n",
        "print(np.char.title(\"lebron james\"))\n",
        "print(np.char.upper(\"lebron james\"))\n",
        "print(np.char.upper([\"lebron\", \"james\"]))\n",
        "print(np.char.lower([\"LEBRON\", \"JAMES\"]))\n",
        "print(np.char.split(\"I love basketball.\"))\n",
        "print(np.char.splitlines(\"I\\nlove basketball.\"))\n",
        "print(np.char.strip([\"adam\", \"aria\", \"Jordan\"], 'a'))\n",
        "print(np.char.join([\":\", \":\"], [\"dmy\", \"ymd\"]))\n",
        "print(np.char.replace(\"Teach me basketball\", \"me\", \"you\"))"
      ],
      "metadata": {
        "colab": {
          "base_uri": "https://localhost:8080/"
        },
        "id": "dzrksBj7FDHN",
        "outputId": "642fdb7c-c59c-4c2a-b0a9-adc42708447e"
      },
      "execution_count": 62,
      "outputs": [
        {
          "output_type": "stream",
          "name": "stdout",
          "text": [
            "['Welcome to my NumPy learning progress!']\n",
            "['Welcome' 'Broski!']\n",
            "Jordan! Jordan! Jordan! \n",
            "~~~~~~~LeBron!~~~~~~~\n",
            "Lebron james\n",
            "Lebron James\n",
            "LEBRON JAMES\n",
            "['LEBRON' 'JAMES']\n",
            "['lebron' 'james']\n",
            "['I', 'love', 'basketball.']\n",
            "['I', 'love basketball.']\n",
            "['dam' 'ri' 'Jordan']\n",
            "['d:m:y' 'y:m:d']\n",
            "Teach you basketball\n"
          ]
        }
      ]
    }
  ]
}